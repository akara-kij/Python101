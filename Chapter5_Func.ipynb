{
 "cells": [
  {
   "cell_type": "markdown",
   "id": "2899f5d0",
   "metadata": {},
   "source": [
    "![alt text for screen readers](UTCClogo.png \"Univerity of the Thai Chamber of Commerce\")\n",
    "# <center>Chapter 5 : Python User Defined Function\n",
    "\n",
    "## Void Function\n",
    "    \n",
    "* เป็นฟังก์ชั่นแบบไม่มีส่งค่าคืนกลับไปยังโปรแกรมที่เรียกใช้งาน\n",
    "    \n",
    "    - def ชื่อฟังก์ชั่น ( พารามิเตอร์ ) :\n",
    "        - Program code 1\n",
    "\n",
    "\n",
    "\n",
    "\n",
    "* ```def``` ย่อมาจาก define ใช้ประกาศชื่อฟังก์ชั่น\n",
    "* ชื่อฟังก์ชั่น เป็นไปตามการสร้างชื่อตัวแปรของภาษา Python\n",
    "* พารามิเตอร์ เป็น input ที่จะส่งให้ฟังก์ชั่นใช้งาน\n",
    "\n",
    "**ตัวอย่างเช่น** ฟังก์ชั่นสำหรับบวกเลขสองจำนวน\n",
    "``` \n",
    "        def sumAB(A,B) :\n",
    "               Total = A + B\n",
    "                print(Total)\n",
    "```\n",
    "* การใช้งานเพื่อหาผลรวมของเลข 5 และ 10\n",
    "    ```sumAB(5,10)``` # มีเลข 15 แสดงผลที่หน้าจอ\n",
    "    "
   ]
  },
  {
   "cell_type": "code",
   "execution_count": null,
   "id": "af4ae153",
   "metadata": {
    "scrolled": true
   },
   "outputs": [],
   "source": [
    "# ตัวอย่างการใช้งาน Void Function\n",
    "# ประกาศฟังก์ชั่นชื่อ sumAB\n",
    "def sumAB(A,B) :\n",
    "    Total = A + B\n",
    "    print(Total)\n",
    "    \n",
    "# เรียกใช้งานฟังก์ชั่น sumAฺB ที่สร้างไว้ด้านบน    \n",
    "sumAB(5,10)"
   ]
  },
  {
   "cell_type": "markdown",
   "id": "25c527df",
   "metadata": {},
   "source": [
    "## Value-return Function\n",
    "\n",
    "* มีค่าคืนกลับจากฟังก์ชั่นที่สร้างขึ้นมายังส่วนที่เรียกใช้งาน\n",
    "\n",
    "``` \n",
    "        def sumAB(A,B) :\n",
    "               Total = A + B\n",
    "               return Total\n",
    "```             \n",
    "\n",
    "\n",
    "* คำสั่ง return จะส่งข้อมูลออกจากฟังก์ชั่นและหยุดทำงาน\n",
    "* ตัวอย่างเช่น : ```x = sumAB(5,10)``` # ค่าของตัวแปร Total จะส่งออกมาสู่ตัวแปร x ซึ่งอยู่ภายนอก"
   ]
  },
  {
   "cell_type": "code",
   "execution_count": null,
   "id": "04011e42",
   "metadata": {
    "scrolled": true
   },
   "outputs": [],
   "source": [
    "# ตัวอย่างการใช้งาน Value-return Function\n",
    "# ประกาศฟังก์ชั่นชื่อ sumAB\n",
    "def sumAB(A,B) :\n",
    "    Total = A + B\n",
    "    return Total # ลักษณะการส่งค่าคืนของ Value-return Function\n",
    "    \n",
    "# เรียกใช้งานฟังก์ชั่น sumAฺB ที่สร้างไว้ด้านบน    \n",
    "x = sumAB(5,10) # ตัวแปร x รับค่าที่ฟังก์ชั่นส่งคืนกลับมา\n",
    "\n",
    "# แสดงผลลัพธ์ออกทางหน้าจอ\n",
    "print(x)"
   ]
  },
  {
   "cell_type": "markdown",
   "id": "b7a3b4e2",
   "metadata": {},
   "source": [
    "## Position Argument\n",
    "\n",
    "* เป็น Input parameter ของฟังก์ชั่น โดยมีข้อกำหนดคือ\n",
    "* ลำดับ : ลำดับของ Argument ต้องตรงกับ ลำดับของ Parameter\n",
    "* จำนวน : จำนวน Argument ต้องตรงกับ จำนวนของ Parameter\n",
    "\n",
    "**Parameter** : เป็นรายการ Parameter ภายในฟังก์ชั่นที่สร้างขึ้น\n",
    "```\n",
    "def printAB(A,B) :\n",
    "    print(A) # แสดง parameter ตัวแรก\n",
    "    print(B) # แสดง parameter ตัวที่สอง\n",
    "```\n",
    "\n",
    "**Argument** : เป็นรายการของตัวแปรที่ส่งให้ฟังก์ชั่น\n",
    "\n",
    "```\n",
    "printAB(\"The first variable\",\"The second variable\")\n",
    "\n"
   ]
  },
  {
   "cell_type": "code",
   "execution_count": null,
   "id": "dbf896de",
   "metadata": {
    "scrolled": true
   },
   "outputs": [],
   "source": [
    "# ทดสอบการสลับที่ของ Position Argument\n",
    "# ประกาศฟังก์ชั่นชื่อ printAB\n",
    "def printAB(A,B) :\n",
    "    print(\"First Parameter : \" + A)\n",
    "    print(\"Second Parameter : \" + B)\n",
    "    \n",
    "# กำหนดค่าเริ่มต้นให้แก่ตัวแปร\n",
    "A = \"The first variable\"\n",
    "B = \"The second variable\"\n",
    "\n",
    "# ทดสอบผลของการสลับตัวแปรของ Position Argument\n",
    "# กรณี 1 : วางลำดับ Argument ให้ตรงกับ Parameter\n",
    "printAB(A,B)\n",
    "\n",
    "# กรณี 2 : วางลำดับ Argument ไม่ตรงกับลำดับ Parameter\n",
    "printAB(B,A) # ทำงานผิดพลาดเพราะวางลำดับ Argumenet ไม่ตรงกับลำดับ Parameter"
   ]
  },
  {
   "cell_type": "markdown",
   "id": "ed041172",
   "metadata": {},
   "source": [
    "## Keyword Argument\n",
    "\n",
    "* กำหนดชื่อและจับคู่ระหว่าง **Parameter** และ **Argument**\n",
    "* หากระบุ **Argument** ด้วย **Keyword** ไม่จำเป็นต้องเรียงลำดับให้ตรงกับลำดับของ **Parameter**\n",
    "* **Argument** ที่ไม่ได้ระบุ **Keyword** ยังต้องเรียงให้ตรงลำดับกับ **Parameter**\n",
    "\n",
    "**ตัวอย่าง** : ทดสอบการใช้ Keyword Argument\n",
    "\n",
    "```\n",
    "def sumABC(A,B,C)\n",
    "    Total = A + 2*B + 3*C\n",
    "    return Total\n",
    "```\n"
   ]
  },
  {
   "cell_type": "code",
   "execution_count": null,
   "id": "7b1cd61d",
   "metadata": {
    "scrolled": true
   },
   "outputs": [],
   "source": [
    "# กำหนดฟังก์ชั่นที่ประกอบไปด้วย Parameter จำนวนสามตัว\n",
    "def sumABC(A,B,C) :\n",
    "    Total = A + 2*B + 3*C\n",
    "    return Total\n",
    "\n",
    "# เรียกใช้งานด้วย Position แบบปกติ\n",
    "x = sumABC(5,10,15)\n",
    "print(x)\n",
    "\n",
    "# กำหนด Keyword Argument\n",
    "x = sumABC(A=5,B=10,C=15)\n",
    "print(x)\n",
    "\n",
    "# กำหนด Keyword Argument แล้วจึงสลับตำแหน่ง\n",
    "x = sumABC(B=10,C=15,A=5)\n",
    "print(x) # ให้ผลลัพธ์ถูกต้อง\n",
    "\n",
    "# ใช้ Position Argument ควบคู่กับ Keyword Argument\n",
    "x = sumABC(5,C=15,B=10) # ให้ Position Argument อยู่ก่อนหน้า Keyword Argument\n",
    "print(x)\n",
    "\n"
   ]
  },
  {
   "cell_type": "markdown",
   "id": "e00ec238",
   "metadata": {},
   "source": [
    "## Default Parameter\n",
    "\n",
    "* เป็นการกำหนดค่าล่วงหน้าให้แก่ Parameter\n",
    "* หากได้กำหนดค่าไว้ล่วงหน้า ก็ไม่จำเป็นต้องใช้ Argument ส่งค่าให้แก่ฟังก์ชั่นอีก\n",
    "* ภายในตัวฟังก์ชั่นให้เรียงลำดับ Position Parameter ก่อนแล้วจึงเป็น Default Parameter\n",
    "\n",
    "**ตัวอย่าง** : การสร้างฟังก์ชั่นด้วย Default Parameter\n",
    "```\n",
    "def sumABC(A,B=10,C=15) :\n",
    "\tTotal = A + B + C\n",
    "\treturn Total\n",
    "```\n"
   ]
  },
  {
   "cell_type": "code",
   "execution_count": null,
   "id": "362e2bf0",
   "metadata": {
    "scrolled": true
   },
   "outputs": [],
   "source": [
    "# สร้างฟังก์ชั่นด้วย Default Parameter\n",
    "def sumABC(A=5,B=10,C=15) :\n",
    "    Total = A + 2*B + 3*C\n",
    "    return Total\n",
    "\n",
    "# ทดสอบการใช้งาน\n",
    "x = sumABC(5) # ใช้ค่า Default ของ B และ C ที่ฟังก์ชั่นกำหนดให้\n",
    "print(x)\n",
    "\n",
    "def sumDEF(D=1,E=2,F=3) :\n",
    "    Total = D + 2*E + 3*F\n",
    "    return Total\n",
    "\n",
    "# ทดสอบการใช้งาน\n",
    "y = sumDEF() # ใช้ค่า Default ดังนั้นไม่จำเป็นต้องส่ง Input Argument ให้ฟังก์ชั่น\n",
    "print(y)"
   ]
  },
  {
   "cell_type": "markdown",
   "id": "891036a6",
   "metadata": {},
   "source": [
    "## Variadic Parameter\n",
    "\n",
    "* Variadic Parameter สามารถรองรับ Argument ได้ไม่จำกัดจำนวน\n",
    "* สามารถมี Variadic Parameter ได้เพียงหนึ่งตัวเท่านั้น\n",
    "* นิยมวาง Vairadic Parameter ไว้ลำดับสุดท้าย\n",
    "\n",
    "**ตัวอย่างเช่น** : การใช้งาน Variadic Paramter\n",
    "\n",
    "```\n",
    "def length(*Vars) :\n",
    "\treturn len( Vars )\n",
    "```"
   ]
  },
  {
   "cell_type": "code",
   "execution_count": null,
   "id": "51948dff",
   "metadata": {
    "scrolled": true
   },
   "outputs": [],
   "source": [
    "# สร้างฟังก์ชั่นที่ใช้ Variadic Parameter\n",
    "def length(*Vars) :\n",
    "    return len( Vars )\n",
    "\n",
    "# ทดสอบการทำงานของ Variadic Parameter\n",
    "num = length(1,2,3,4,5)\n",
    "print(num)\n",
    "\n",
    "# ในกรณีที่ส่งค่าด้วยข้อมูลประเภท List\n",
    "varList = [ 1, 2, 3, 4, 5]\n",
    "num = length(varList) # Varidatic Parameter ถือว่ารายการทั้งหมดคือข้อมูลประเภท List หนึ่งตัว\n",
    "print(num)\n"
   ]
  },
  {
   "cell_type": "markdown",
   "id": "8290bf06",
   "metadata": {},
   "source": [
    "**ตัวอย่างเช่น** : การใช้งาน Variadic Paramter ร่วมกับ Parameter อื่น\n",
    "\n",
    "```\n",
    "def productList(Name,*Vars) :\n",
    "\t\tprint( Name + “ has ” + str( len(Vars) ) + \" items\" )\n",
    "```"
   ]
  },
  {
   "cell_type": "code",
   "execution_count": null,
   "id": "2653a318",
   "metadata": {
    "scrolled": true
   },
   "outputs": [],
   "source": [
    "# สร้างฟังก์ชั่นที่ใช้ Variadic Parameter ร่วมกับ Paramter อื่นๆ\n",
    "# นิยมวาง Variadic Parameter ไว้ลำดับสุดท้าย\n",
    "def ProductList(Name,*Vars) :\n",
    "    print( Name + \" has \" + str( len(Vars) ) + \" items\" )\n",
    "          \n",
    "# ทดสอบการใช้งาน\n",
    "TypeName = \"Color\"\n",
    "ProductList(TypeName,\"Red\",\"Green\",\"Blue\")   \n",
    "\n"
   ]
  },
  {
   "cell_type": "markdown",
   "id": "87e2e813",
   "metadata": {},
   "source": [
    "## Lambda Expression\n",
    "\n",
    "* เป็น Anonymous Function ประเภทหนึ่งซึ่งไม่ต้องระบุชื่อ หรือ ใช้ def ในการสร้างฟังก์ชั่น\n",
    "* สามารถใช้ Lambda Expression เป็น Input Argument เข้าไปยังฟังก์ชั่นอื่นๆ ได้\n",
    "* สามารถสร้างฟังก์ชั่นชนิดนี้ด้วย keyword “lambda”\n",
    "\n",
    "**ตัวอย่าง :** การใช้งาน Lambda Expression\n",
    "\n",
    "```\n",
    "def CalAB(A,B,Func) :\n",
    "\treturn Func(A,B)\n",
    "    \n",
    "funcName = lambda a, b : a + b\n",
    "Ans = CalAB( 5, 10, funcName ) # Ans = 15\n",
    "\n",
    "```\n"
   ]
  },
  {
   "cell_type": "code",
   "execution_count": null,
   "id": "9fce58c4",
   "metadata": {
    "scrolled": true
   },
   "outputs": [],
   "source": [
    "# สร้างฟังก์ชั่นที่สามารถปรับเปลี่ยนการทำงานได้\n",
    "def CalAB(A,B,Func) :\n",
    "    return Func(A,B)\n",
    "\n",
    "# สร้าง Lambda Expression ที่รองรับการคำนวณทั้งหมดของโปรแกรม\n",
    "funcSum = lambda a, b : a + b\n",
    "\n",
    "# นำ Lambda Expression ไปเป็น input argument ของฟังก์ชั่น\n",
    "Ans = CalAB( 5, 10, funcSum ) # Ans = 15\n",
    "print(Ans)\n",
    "\n",
    "# สร้าง Lambda Expression ที่รองรับการคำนวณทั้งหมดของโปรแกรม\n",
    "funcProd = lambda a, b : a * b\n",
    "\n",
    "# นำ Lambda Expression ไปเป็น input argument ของฟังก์ชั่น\n",
    "Ans = CalAB( 5, 10, funcProd ) # Ans = 50\n",
    "print(Ans)"
   ]
  }
 ],
 "metadata": {
  "kernelspec": {
   "display_name": "Python 3",
   "language": "python",
   "name": "python3"
  },
  "language_info": {
   "codemirror_mode": {
    "name": "ipython",
    "version": 3
   },
   "file_extension": ".py",
   "mimetype": "text/x-python",
   "name": "python",
   "nbconvert_exporter": "python",
   "pygments_lexer": "ipython3",
   "version": "3.8.8"
  }
 },
 "nbformat": 4,
 "nbformat_minor": 5
}
