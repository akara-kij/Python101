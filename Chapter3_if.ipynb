{
 "cells": [
  {
   "cell_type": "markdown",
   "id": "da756913",
   "metadata": {},
   "source": [
    "![alt text for screen readers](UTCCLogo.png \"University of the Thai Chamber of Commerce\")\n",
    " # <center> Chapter 3 : Python Control Statement</center>\n",
    "\n",
    "# Operator สำหรับเปรียบเทียบ\n",
    "\n",
    "* ใช้สำหรับหาค่าความจริงระหว่างข้อมูล ให้ผลลัพธ์ออกมาเป็น True หรือ False\n",
    "* ภาษา Python มีค่า True = 1 และ False = 0\n",
    "* Operator\n",
    "    - ```==```\tหมายถึง Equality เช่น 2 == 1+1 ได้ผลลัพธ์เป็น True\n",
    "    - ```!=```\tหมายถึง Inequality เช่น 1 != 1+1 ได้ผลลัพธ์เป็น True\n",
    "    - ```>```\t\tหมายถึง Greater Than เช่น 1 > 0 ได้ผลลัพธ์เป็น True\n",
    "    - ```<```\t\tหมายถึง Less Than เช่น 1 < 0 ได้ผลลัพธ์เป็น False\n",
    "    - ```>=```\tหมายถึง Greater Than or Equal เช่น 1 >= 1 ได้ผลลัพธ์เป็น True\n",
    "    - ```<=```\tหมายถึง Less Thank or Equal เช่น 1 <= 1 ได้ผลลัพธ์เป็น True\n"
   ]
  },
  {
   "cell_type": "code",
   "execution_count": null,
   "id": "fac70d4f",
   "metadata": {},
   "outputs": [],
   "source": [
    "# ตัวอย่าง Operator ที่ใช้เปรียบเทียบเงื่อนไข\n",
    "print(\"ทดสอบ Operator ภาษา Python\")\n",
    "print(\"************************\")\n",
    "\n",
    "# Equality operator\n",
    "Cond1 = 2 == 1+1\n",
    "if Cond1 :\n",
    "    print('2==1+1 : ',Cond1)\n",
    "    \n",
    "# Inequality operator\n",
    "Cond2 = 1 != 1+1\n",
    "if Cond2 :\n",
    "    print('1 !=1+1 : ',Cond2)\n",
    "    \n",
    "# Greater than\n",
    "Cond3 = 1 > 0\n",
    "if Cond3 :\n",
    "    print('1 > 0 : ',Cond3)\n",
    "    \n",
    " # Less than\n",
    "Cond4 = 1 < 0\n",
    "if Cond4 :\n",
    "    print('1 < 0 : ',Cond4)   # ไม่ทำงานเพราะ Cond4 มีค่าเป็น False\n",
    "    \n",
    "# Greater than or equal\n",
    "Cond5 = 1 >= 1\n",
    "if Cond5 :\n",
    "    print('1 >= 1 : ',Cond5)\n",
    "    \n",
    "# Less than or equal\n",
    "Cond6 = 1 <= 1\n",
    "if Cond6 :\n",
    "    print('1 <= 1 : ',Cond6)"
   ]
  },
  {
   "cell_type": "markdown",
   "id": "917ba416",
   "metadata": {},
   "source": [
    "## เงื่อนไขแบบ if\n",
    "\n",
    "* คำสั่งจะถูกประมวลผลเมื่อ Condition ที่กำหนดมีค่าความจริงเป็น True\n",
    "\n",
    "    - if เงื่อนไข : <p>\n",
    "            Program Code 1 <p>\n",
    "            Program Code 2 <p>\n",
    "                \n",
    "                \n",
    "* กำหนด Block ของคำสั่ง if โดยการเยื้องโค้ด\n",
    "* ใช้เครื่องหมาย : ปิดท้ายเงื่อนไข\n",
    "* ไม่ต้องใช้ ```( … )``` ครอบล้อมเงื่อนไข"
   ]
  },
  {
   "cell_type": "code",
   "execution_count": null,
   "id": "02e69a3d",
   "metadata": {},
   "outputs": [],
   "source": [
    "# ทดสอบเงื่อนไขแบบ if\n",
    "# กรณีเงื่อนไขเป็นจริง\n",
    "CondTrue = 1 + 1 == 2\n",
    "if CondTrue :\n",
    "        print( 'เงื่อนไขเป็นจริง ดังนั้นบล็อค if จีงทำงาน ')\n",
    "        print('1+1 = 2 :',CondTrue)\n",
    "        \n",
    "print('จบการทำงาน')\n"
   ]
  },
  {
   "cell_type": "code",
   "execution_count": null,
   "id": "2220025e",
   "metadata": {},
   "outputs": [],
   "source": [
    "# ทดสอบเงื่อนไขแบบ if\n",
    "# กรณีเงื่อนไขเป็นเท็จ\n",
    "CondTrue = 1 + 1 > 2\n",
    "if CondTrue :\n",
    "        print( 'เงื่อนไขเป็นจริง ดังนั้นบล็อค if จีงทำงาน ')\n",
    "        print('1+1 > 2 :',CondTrue)\n",
    "        \n",
    "print('จบการทำงาน')"
   ]
  },
  {
   "cell_type": "markdown",
   "id": "7dfdea86",
   "metadata": {},
   "source": [
    "## เงื่อนไขแบบ if-else\n",
    "\n",
    "* คำสั่งในบล็อค “if” จะดำเนินการเมื่อเงื่อนไขเป็นจริง\n",
    "* หากเงื่อนไขไม่เป็นจริงจึงดำเนินการในบล็อค “else”\n",
    "\n",
    "    - if เงื่อนไข : <p>\n",
    "            Program Code 1 <p>\n",
    "            Program Code 2 <p>\n",
    "      else :\n",
    "            Program Code 3 <p>\n",
    "            Program Code 4 <p>"
   ]
  },
  {
   "cell_type": "code",
   "execution_count": null,
   "id": "04ff10a9",
   "metadata": {},
   "outputs": [],
   "source": [
    "# ทดสอบเงื่อนไขแบบ if-else\n",
    "# กรณีเงื่อนไขเป็นจริง\n",
    "CondTrue = 1 + 1 == 2\n",
    "if CondTrue :\n",
    "        print( 'เงื่อนไขเป็นจริง ดังนั้นบล็อค if จีงทำงาน ')\n",
    "        print('1+1 = 2 :',CondTrue)\n",
    "else :\n",
    "        print( 'เงื่อนไขเป็นเท็จ ดังนั้นบล็อค else จีงทำงาน ')\n",
    "        print('1+1 = 2 :',CondTrue)\n",
    "        \n",
    "print('จบการทำงาน')\n"
   ]
  },
  {
   "cell_type": "code",
   "execution_count": null,
   "id": "ef5c7f2d",
   "metadata": {},
   "outputs": [],
   "source": [
    "# ทดสอบเงื่อนไขแบบ if-else\n",
    "# กรณีเงื่อนไขเป็นเท็จ\n",
    "CondTrue = 1 + 1 > 2\n",
    "if CondTrue :\n",
    "        print( 'เงื่อนไขเป็นจริง ดังนั้นบล็อค if จีงทำงาน ')\n",
    "        print('1+1 > 2 :',CondTrue)\n",
    "else :\n",
    "        print( 'เงื่อนไขเป็นเท็จ ดังนั้นบล็อค else จีงทำงาน ')\n",
    "        print('1+1 > 2 :',CondTrue)\n",
    "        \n",
    "print('จบการทำงาน')"
   ]
  },
  {
   "cell_type": "markdown",
   "id": "fb40f293",
   "metadata": {},
   "source": [
    "## เงื่อนไขแบบ if-elif\n",
    "\n",
    "* แยกเงื่อนไขของการตรวจสอบออกเป็นหลายๆกรณี\n",
    "* มีเพียงกรณีเดียวเท่านั้นที่ถูกดำเนินการ\n",
    "\n",
    "    - if เงื่อนไข 1 : <p>\n",
    "            Program Code 1 <p>\n",
    "      elif เงื่อนไข 2 : <p>\n",
    "            Program Code 2 <p>\n",
    "      elif เงื่อนไข 3 : <p>\n",
    "            Program Code 3 <p>\n"
   ]
  },
  {
   "cell_type": "code",
   "execution_count": null,
   "id": "f889c637",
   "metadata": {},
   "outputs": [],
   "source": [
    "# ทดสอบเงื่อนไขแบบ if-elif\n",
    "# กรณีเงื่อนไขเป็นจริง 1\n",
    "Num = 10\n",
    "if Num > 10 :\n",
    "    print('บล็อค if ทำงาน')\n",
    "    print('Num > 10 : ',Num>10)\n",
    "elif Num == 10:\n",
    "    print('บล็อค elif ทำงาน')\n",
    "    print('Num = 10 : ',Num==10)   \n",
    "else :\n",
    "    print('บล็อค else ทำงาน')\n",
    "\n",
    "print('จบการทำงาน 1')"
   ]
  },
  {
   "cell_type": "code",
   "execution_count": null,
   "id": "b73120d6",
   "metadata": {},
   "outputs": [],
   "source": [
    "# กรณีเงื่อนไขเป็นจริง 2\n",
    "Num = 10\n",
    "if Num >= 10 :\n",
    "    print('บล็อค if ทำงาน')\n",
    "    print('Num >= 10 : ',Num>=10)\n",
    "elif Num == 10:\n",
    "    print('บล็อค elif ทำงาน')\n",
    "    print('Num = 10 : ',Num==10)   \n",
    "else :\n",
    "    print('บล็อค else ทำงาน')\n",
    "\n",
    "print('จบการทำงาน')"
   ]
  },
  {
   "cell_type": "code",
   "execution_count": null,
   "id": "87ddf3dc",
   "metadata": {},
   "outputs": [],
   "source": [
    "# กรณีเงื่อนไขเป็นเท็จ\n",
    "Num = 1\n",
    "if Num > 10 :\n",
    "    print('บล็อค if ทำงาน')\n",
    "    print('Num > 10 : ',Num>10)\n",
    "elif Num == 10:\n",
    "    print('บล็อค elif ทำงาน')\n",
    "    print('Num = 10 : ',Num==10)   \n",
    "else :\n",
    "    print('บล็อค else ทำงาน')\n",
    "\n",
    "print('จบการทำงาน')"
   ]
  },
  {
   "cell_type": "markdown",
   "id": "de1a8e55",
   "metadata": {},
   "source": [
    "## การใช้คำสั่ง if ซ้อนกัน\n",
    "\n",
    "* ใช้เมื่อมีเงื่อนไขที่ต้องพิจารณาร่วมกันมากกว่าหนึ่งอย่าง\n",
    "* การซ้อนเงื่อนไข if สามารถทำได้ทั้งในบล็อก if , elif หรือ else\n",
    "\n",
    "    - if เงื่อนไข 1.1 : <p>\n",
    "            if เงื่อนไข 1.2 : <p>\n",
    "                Program Code 1.2 <p>\n",
    "            elif เงื่อนไข 1.3 : <p>\n",
    "                Program Code 1.3 <p\n",
    "      else:\n",
    "          Program Code 2 <p>\n"
   ]
  },
  {
   "cell_type": "code",
   "execution_count": null,
   "id": "c93ec235",
   "metadata": {},
   "outputs": [],
   "source": [
    "# ทดสอบเงื่อนไขแบบ if ซ้อนกัน\n",
    "# ตัวอย่างที่ 1\n",
    "Num = 49 # ทดลองทดสอบด้วยตัวเลข 80 75 และ 49\n",
    "if Num >= 50 :\n",
    "        if Num >75 :\n",
    "            print('บล็อค if อันที่สองทำงาน')\n",
    "            print('Num > 75')\n",
    "        elif Num == 75 :\n",
    "            print('บล็อค elif ทำงาน')\n",
    "            print('Num = 75')\n",
    "            \n",
    "        print('บล็อค if อันแรกจะทำงานเสมอ')    \n",
    "        print(' Num >= 50') \n",
    "else :\n",
    "    print('บล็อค else') \n",
    "    print('Num<50')\n",
    "    \n",
    "print('จบการทำงาน')\n",
    "        "
   ]
  },
  {
   "cell_type": "code",
   "execution_count": null,
   "id": "46f1ae73",
   "metadata": {},
   "outputs": [],
   "source": [
    "# ทดสอบเงื่อนไขแบบ if ซ้อนกัน\n",
    "# ตัวอย่างที่ 2\n",
    "NumInt = int(input(\"กรุณาป้อนเลขจำนวนเต็ม 1 ตัว: \"))\n",
    "\n",
    "if NumInt < 0:\n",
    "    NumInt = 0\n",
    "    print('Negative changed to zero')\n",
    "elif NumInt == 0:\n",
    "    print('Zero')\n",
    "elif NumInt == 1:\n",
    "    print('Single')\n",
    "else: # ตัวเลขที่ input จะมีค่ามากกว่า 1\n",
    "    if NumInt > 10 :\n",
    "        print('Large number')\n",
    "    else :\n",
    "        print('More')\n",
    "    \n",
    "print('จบการทำงาน')\n"
   ]
  },
  {
   "cell_type": "markdown",
   "id": "3e6f0cc5",
   "metadata": {},
   "source": [
    "# Conditional Expression\n",
    "\n",
    "* เป็นการเขียนเงื่อนไข if-else แต่รวบลัดให้เหลือ code เพียงหนึ่งบรรทัด\n",
    "    - if เงื่อนไข : <p>\n",
    "            Program Code 1 <p>\n",
    "      else :\n",
    "            Program Code 2 <p>\n",
    "                \n",
    "* จากบล็อกที่แสดงไว้ด้านบนสามารถเขียนเป็น conditional expression ดังนี้\n",
    "    - Program code 1 if เงื่อนไข else Program code 2\n",
    "\n",
    "  \n"
   ]
  },
  {
   "cell_type": "code",
   "execution_count": null,
   "id": "80c90782",
   "metadata": {},
   "outputs": [],
   "source": [
    "# ทดสอบเงื่อนไขแบบ Conditional Expression\n",
    "NumInt = int(input(\"กรุณาป้อนเลขจำนวนเต็ม 1 ตัว: \"))\n",
    "\n",
    "# กรณีใช้ if-else \n",
    "print('การทำงานผ่านบล็อค if-else')\n",
    "if NumInt >= 50 :\n",
    "    print('NumInt มีค่ามากกว่าหรือเท่ากับ 50')\n",
    "else :\n",
    "    print('NumInt มีค่าน้อยกว่า 50')\n",
    "    \n",
    "print(\"\")\n",
    "\n",
    "# กรณีใช้ Conditional Expression\n",
    "print('การทำงานผ่าน Conditional Expression')\n",
    "print('NumInt มีค่ามากกว่าหรือเท่ากับ 50') if NumInt>= 50 else print('NumInt มีค่าน้อยกว่า 50')         \n"
   ]
  }
 ],
 "metadata": {
  "kernelspec": {
   "display_name": "Python 3",
   "language": "python",
   "name": "python3"
  },
  "language_info": {
   "codemirror_mode": {
    "name": "ipython",
    "version": 3
   },
   "file_extension": ".py",
   "mimetype": "text/x-python",
   "name": "python",
   "nbconvert_exporter": "python",
   "pygments_lexer": "ipython3",
   "version": "3.8.8"
  }
 },
 "nbformat": 4,
 "nbformat_minor": 5
}
