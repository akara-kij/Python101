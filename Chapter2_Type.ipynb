{
 "cells": [
  {
   "cell_type": "markdown",
   "id": "d6591250",
   "metadata": {},
   "source": [
    "![alt text for screen readers](UTCCLogo.png \"University of the Thai Chamber of Commerce\")\n",
    " # <center> Chapter 2 : Python type of data</center>\n",
    "\n",
    "# Variable Name\n",
    "\n",
    "* ตัวอักษรแรกต้องเป็นตัวอักขระ ห้ามเป็นตัวเลข\n",
    "* สามารถใช้ _ เป็นอักษรตัวแรก\n",
    "* ห้ามมีอักขระพิเศษ ! @ # $\n",
    "* อักษรตัวใหญ่-ตัวเล็กมีผลต่อชื่อตัวแปร\n",
    "* ใช้ภาษาไทยได้ ( แต่ไม่แนะนำ )\n",
    "* ไม่ใช่คำสงวนของภาษา Python เช่นคำว่า lambda, return, continue\n",
    "\n",
    "**ตัวอย่าง** Variable Name ที่ถูกต้องในภาษา Python\n",
    "* ให้ X เป็นตัวแปรประเภทตัวเลข เก็บค่าจำนวนเต็ม 10,000\n",
    "* ให้ Com_Eng เป็นตัวแปรประเภทตรรกะ เก็บค่าความจริง True\n",
    "* ให้ _Name เป็นตัวแปรประเภทข้อความเก็บชื่อผู้ใช้งาน\n",
    "* ให้ _Last_Name_ เป็นตัวแปรประเภทข้อความเก็บนามสกุลผู้ใช้งาน\n",
    "* ให้ Lambda เป็นตัวแปรประเภทตัวเลข เก็บค่าทศนิยม 1.45\n",
    "* ให้ Return เป็นตัวแปรประเภทตัวเลข เก็บค่าทศนิยม 10.15\n",
    "\n"
   ]
  },
  {
   "cell_type": "code",
   "execution_count": null,
   "id": "8796e108",
   "metadata": {},
   "outputs": [],
   "source": [
    "# กำหนดค่าให้แก่ตัวแประแต่ละตัว\n",
    "X  = 10000\n",
    "Comp_Eng = True\n",
    "_Name = \"Akara\"\n",
    "_Last_Name_ = \"Akara Kijkarncharoensin\"\n",
    "ชื่อ_นามสกุล = _Name + _Last_Name_\n",
    "Lambda = 1.45 # คำสงวนของภาษา Python ใช้ lambda เป็นอักษรตัวเล็กท้งหมด\n",
    "Return = 10.15 # คำสงวนของภาษา Python ใช้ return เป็นอักษรตัวเล็กทั้งหมด\n"
   ]
  },
  {
   "cell_type": "markdown",
   "id": "27f849e6",
   "metadata": {},
   "source": [
    "**ตัวอย่าง** Variable Name ที่ไม่ถูกหลักเกณฑ์ของภาษา Python\n",
    "\n",
    "หมายเหตุ : Code ในส่วนนี้ถูกทำให้เป็น Block comment ไว้ หาก run โดยไม่เปลี่ยนให้เป็น Comment จะเกิด Error ขึ้น"
   ]
  },
  {
   "cell_type": "code",
   "execution_count": null,
   "id": "c6636c90",
   "metadata": {},
   "outputs": [],
   "source": [
    "# ตัวอย่างขอชื่อตัวแปรที่ไม่เป็นไปตามหลักเกณฑ์\n",
    "'''\n",
    "@LineID = \"Python101\" # มีอักขระพิเศษ @\n",
    "1stYear = \"2021\" # ขึ้นต้นด้วยตัวเลข\n",
    "#Name = \"Akara\" # ใช้อักขระพิเศษ # จึงกลายเป็น Comment Line\n",
    "Last Name = \"Kijkarncharoensin\" # มีการเว้นวรรค\n",
    "ชื่อ-นามสกุล = #Name + Last Name # ใช้อักขระพิเศษ -\n",
    "lambda = 1.45 # คำสงวนของภาษา Python\n",
    "return = 10.15 # คำสงวนของภาษา Python\n",
    "\n",
    "'''\n"
   ]
  },
  {
   "cell_type": "markdown",
   "id": "7b3fcb04",
   "metadata": {},
   "source": [
    "**ตัวอย่าง** ทดสอบว่าชื่อตัวแปรที่สร้างถูกต้องตามภาษา Python หรือไม่ ?"
   ]
  },
  {
   "cell_type": "code",
   "execution_count": null,
   "id": "4bf0e375",
   "metadata": {},
   "outputs": [],
   "source": [
    "print( \"X = \", X)\n",
    "print(\"Comp_Eng = \", Comp_Eng)\n",
    "print(\"_Name =\", _Name)\n",
    "print(\"ชื่อ_นามสกุล =\", ชื่อ_นามสกุล)\n",
    "print(\"Lambda =\", Lambda)\n",
    "print(\"Return = \", Return)"
   ]
  },
  {
   "cell_type": "markdown",
   "id": "db8efd7a",
   "metadata": {},
   "source": [
    "## Numeric Data  Type\n",
    "* สามารถกำหนดตัวเลขให้แก่ตัวแปร\n",
    "    - ไม่สามารถใช้เครื่องหมาย , เช่น X = 1,000\n",
    "    - สามารถใช้เครื่องหมาย _ แทนได้ เช่น X = 1_000\n",
    "    \n",
    "**ตัวอย่าง** ตัวแปรประเภทตัวเลขในภาษา Python\n",
    "* ให้ X เป็นจำนวนเต็มเท่ากับ 123\n",
    "* ให้ Price เป็นข้อมูลตัวเลขทศนิยมมีค่าเท่ากับ 100.50\n",
    "* ให้ Tax เป็นข้อมูลตัวเลขทศนิยมมีเค่าเท่ากับ 12.%\n",
    "* ให้ Total เป็นข้อมูลตัวเลขทศนิยมมีค่าเท่ากับผลรวมของ Price และ Tax\n"
   ]
  },
  {
   "cell_type": "code",
   "execution_count": null,
   "id": "133d08a6",
   "metadata": {},
   "outputs": [],
   "source": [
    "# ตัวอย่างตัวแปรประเภท Numeric\n",
    "X = 123\n",
    "Price = 100.5\n",
    "Tax = 12.5/100\n",
    "Total = Price + Tax\n",
    "print(X)\n",
    "print(Price)\n",
    "print(Tax)\n",
    "print(Total)"
   ]
  },
  {
   "cell_type": "markdown",
   "id": "1e309047",
   "metadata": {},
   "source": [
    "* ฟังก์ชั่นสำคัญของตัวแปรประเภท Numeric\n",
    "    - abs( ข้อมูล )\t:  หาค่า Absolute ของข้อมูลตัวเลข\n",
    "    - float( ข้อมูล )\t: แปลงข้อมูลตัวเลขให้เป็นตัวเลขทศนิยม\n",
    "    - int( ข้อมูล )\t: แปลงข้อมูลตัวเลขให้เป็นเลขจำนวนเต็ม\n",
    "    - max( ชุดข้อมูล )\t: หาค่าสูงสุดของชุดตัวเลขที่กำหนดให้\n",
    "    - min( ชุดข้อมูล )\t: หาค่าต่ำสุดของชุดตัวเลขที่กำหนดให้\n",
    "    \n",
    " **ตัวอย่าง** การใช้ฟังก์ชั่นกับตัวแปรแบบตัวเลข"
   ]
  },
  {
   "cell_type": "code",
   "execution_count": null,
   "id": "b14a0d06",
   "metadata": {},
   "outputs": [],
   "source": [
    "numInt = -123\n",
    "Xabs = abs(numInt)\n",
    "Xfloat = float(Xabs)\n",
    "Xint  = int(Xfloat)\n",
    "numMax = max( numInt, Xabs, Xfloat )\n",
    "numMin = min( numInt, Xabs, Xfloat )\n",
    "print( 'Abosolute value = ', str(Xabs))\n",
    "print('Floating value = ', str(Xfloat))\n",
    "print('Integer value = ', str(Xint))\n",
    "print('Maximum value = ', str(numMax))\n",
    "print('Minimum value = ',str(numMin))"
   ]
  },
  {
   "cell_type": "markdown",
   "id": "f6eff635",
   "metadata": {},
   "source": [
    "* การจัด Format สำหรับแสดงผล\n",
    "    - ,\t\t: แสดงเครื่องหมายจุลภาค ( , ) ในหลักพัน\n",
    "    - .?f\t: ให้แสดงผลเป็นเลขทศนิยมจำนวนเท่ากับ ?\n",
    "    - .?%\t: ให้แสดงผลเป็นเปอร์เซ็นต์จำนวนทศนิยมเท่ากับ ?\n",
    "    \n",
    "**ตัวอย่าง** กำหนดรูปแบบการแสดงผลของตัวเลข\n",
    "* ให้ TotalPrice แทนราคาสินค้าที่รวมภาษีแล้วมีค่าเท่ากับ 2500.1234\n"
   ]
  },
  {
   "cell_type": "code",
   "execution_count": null,
   "id": "b74a0637",
   "metadata": {},
   "outputs": [],
   "source": [
    "# กำหนดรูปแบบการแสดงผลของข้อมูลตัวเลข\n",
    "TotalPrice = 2500.1234\n",
    "\n",
    "# แสดงเครื่องหมายจุลภาคในหลักพัน\n",
    "print( 'TotalPrice = ' , format( TotalPrice , ',' ) )\n",
    "\n",
    "# แสดงผลเฉพาะทศนิยมสองตำแหน่ง\n",
    "print('TotalPrice = ', format(TotalPrice,'.2f') )\n",
    "\n",
    "# แสดงผลด้วยทศนิยมสองตำแหน่งและใช้จุลภาคที่หลักพัน\n",
    "print('TotalPrice = ', format(TotalPrice,',.2f') )\n",
    "\n",
    "# แสดงผลรูปแบบเปอร์เซ็นต์\n",
    "print('TotalPrice = ', format(TotalPrice,',.2%') )"
   ]
  },
  {
   "cell_type": "markdown",
   "id": "177df0be",
   "metadata": {},
   "source": [
    "## String Data Type\n",
    "\n",
    "* เป็นการเอาอักขระหลายๆตัวมาต่อกันเป็นข้อความ\n",
    "* อยู่ภายใต้เครื่องหมาย Single quotes ('…') หรือ Double quotes (\"…\")\n",
    "* การเชื่อมต่อ String สามารถทำได้ด้วยเครื่องหมาย \" + \"\n",
    "\n",
    "**ตัวอย่างเช่น** \n",
    "* Name \t= 'fired eggs'\n",
    "* Message = \"Don’t running\"\n",
    "* Text \t= \"Yes, they do\"\n",
    "* Hello \t= 'You said \"Hello World ! สวัสดีชาวโลก!\" '\n",
    "* Sentence = Message + \". \" + Text\n"
   ]
  },
  {
   "cell_type": "code",
   "execution_count": null,
   "id": "9d1b6077",
   "metadata": {},
   "outputs": [],
   "source": [
    "# สร้างตัวแปรประเภท String สำหรับ ภาษา Python\n",
    "\n",
    "Name = 'fired eggs'\n",
    "Message = \"Don’t running\" # วาง Single Quote อยู่ในภายใน Double Quote สองอัน\n",
    "Text = \"Yes, they do\"\n",
    "Hello = 'You said \"Hello World ! สวัสดีชาวโลก!\" ' # วาง Double Quote ทั้งหมดให้อยู่ภายใต้เครื่องหมาย Single Quote สองอัน\n",
    "Sentence = Message + \". \" + Text # เชื่อมต่อ String สองตัว\n",
    "\n",
    "print(Name)\n",
    "print(Message)\n",
    "print(Text)\n",
    "print(Hello)\n",
    "print(Sentence)\n"
   ]
  },
  {
   "cell_type": "markdown",
   "id": "f7ba5997",
   "metadata": {},
   "source": [
    "## List Data Type\n",
    "\n",
    "* รวบรวมข้อมูลต่างๆ รวมเข้าเป็นกลุ่ม\n",
    "* ชนิดของข้อมูลสามารถแตกต่างกันได้\n",
    "* นำข้อมูลทั้งหมดบรรจุภายใต้เครื่องหมาย [ ] แบ่งแยกแต่ละข้อมูลด้วยเครื่องหมาย ,\n",
    "* การอ้างถึงข้อมูลทำได้โดยใช้ Index ( เริ่มต้นที่ 0 )\n",
    "\n",
    "**ตัวอย่างเช่น**\n",
    "* NumList = [ 1, 2, 3 ]\n",
    "* DataList = [10.0, “Name”, True ]\n",
    "* print( NumList[0] ,NumList[1], NumList[2] ) \t# ผลลัพธ์คือ 1 2 3\n"
   ]
  },
  {
   "cell_type": "code",
   "execution_count": null,
   "id": "dfdaad77",
   "metadata": {
    "scrolled": true
   },
   "outputs": [],
   "source": [
    "NumList = [ 1, 2, 3 ]\n",
    "DataList = [10.0, \"Name\", True ]\n",
    "print( NumList[0] ,NumList[1], NumList[2] ) # ผลลัพธ์คือ 1 2 3\n"
   ]
  },
  {
   "cell_type": "markdown",
   "id": "c05f6d9d",
   "metadata": {},
   "source": [
    "* Method สำคัญของตัวแปรประเภท List\n",
    "    - .append( ข้อมูล ) \t: เพิ่มสมาชิกใหม่ 1 รายการต่อท้าย List\n",
    "    - .count( ข้อมูล )\t: นับจำนวนสมาชิกทั้งหมดที่มีค่าตรงกับข้อมูลที่ระบุ\n",
    "    - .index( ข้อมูล )\t: คืนค่า Index ของสมาชิกที่ใน List ซึ่งมีค่าตรงกับข้อมูลที่ระบุ\n",
    "    - .remove( ข้อมูล )\t: นำข้อมูลที่ระบุออกจาก List\n",
    "    - .clear() \t\t: ลบสมาชิกทั้งหมดของ List \n",
    "    - .sort()\t\t: เรียงลำดับสมาชิกจากน้อยไปมาก"
   ]
  },
  {
   "cell_type": "code",
   "execution_count": null,
   "id": "8b88683e",
   "metadata": {},
   "outputs": [],
   "source": [
    "# List เริ่มต้น\n",
    "NumList = [ 1, 2, 3 ]\n",
    "DataList = [10.0, \"Name\", True ]\n",
    "print('Original NumList = ', NumList)\n",
    "print('Original DataList = ', DataList)\n",
    "\n",
    "# เพิ่มสมาชิกต่อท้าย List\n",
    "NumList.append( 1 )\n",
    "print('After appen 1 member = ', NumList)\n",
    "\n",
    "# นับจำนวนสมาชิกที่่มีค่าเท่ากับ 1\n",
    "print('Number of 1 = ', NumList.count(1))\n",
    "\n",
    "# หมายเลข Index ของสมาชิกที่มีค่าเท่ากับ 1 2 3\n",
    "print('Index of 1 = ', NumList.index(1))\n",
    "print('Index of 2 = ', NumList.index(2))\n",
    "print('Index of 3 = ', NumList.index(3))\n",
    "print('2nd Index of 1 = ', NumList.index(1,2)) # หมายเลข Index ของสมาชิกที่เท่ากับ 1 แต่เป็นตัวที่ 2\n"
   ]
  },
  {
   "cell_type": "markdown",
   "id": "1f9a0c83",
   "metadata": {},
   "source": [
    "* ฟังก์ชั่นสำคัญของตัวแปรประเภท List\n",
    "    - len()\t\t: นับจำนวนสมาชิกทั้งหมดใน List\n",
    "    - max() \t\t: สมาชิกที่มีค่ามากที่สุด\n",
    "    - min()\t\t: สมาชิกที่มีค่าน้อยที่สุด"
   ]
  },
  {
   "cell_type": "code",
   "execution_count": null,
   "id": "72ea6a60",
   "metadata": {
    "scrolled": true
   },
   "outputs": [],
   "source": [
    "# List เริ่มต้น\n",
    "NumList = [ 1, 2, 3 ]\n",
    "print('The List Data :', NumList)\n",
    "print( 'Length = ', len(NumList)  )\n",
    "print('Maximum = ',max(NumList) )\n",
    "print('Minimum = ',min(NumList) )\n",
    "print(\"\")\n",
    "\n",
    "# กรณีที่ List เก็บ Data ที่หลากหลาย\n",
    "DataList = [10.0, \"Name\", True ]\n",
    "print('The List Data :', DataList)\n",
    "print( 'Length = ', len(DataList)  )\n",
    "print(\"\")\n",
    "# print('Maximum = ',max(DataList) ) # เกิด Error เพราะ มี String บนอยุ่ในข้อมูล\n",
    "\n",
    "DataList2 = [10.0, False, True, 0 ]\n",
    "print('The List Data :', DataList2)\n",
    "print( 'Length = ', len(DataList2)  )\n",
    "print('Maximum = ',max(DataList2) )\n",
    "print('Minimum = ',min(DataList2) )\n",
    "print('Flase = 0 ? :', False == 0) # ค่า False ของภาษา Python มีค่าเท่ากับ 0"
   ]
  },
  {
   "cell_type": "markdown",
   "id": "671c28d2",
   "metadata": {},
   "source": [
    "## Tuple Data Type\n",
    "\n",
    "* ใช้สำหรับเก็บข้อมูลหลากหลายชนิดไว้ในตัวแปร เช่นเดียวกับ List\n",
    "* จัดเก็บข้อมูลไว้ในตัวแปรแบบ Tuple ว้าภายใต้เครื่องหมาย ( ) และใช้ index ในการอ้างถึง\n",
    "* หลังจากสร้างแล้ว ไม่สามารถเปลี่ยนค่าสมาชิก หรือ ลำดับของแต่ละสมาชิกได้อีก\n",
    "\n",
    "**ตัวอย่าง**\n",
    "\n",
    "* Holiday \t= (‘Sunday’, ‘Saturday’)\n",
    "* Location\t= (‘Europe’, ’Japan’, ’USA’)\n",
    "* Money    = (20, 50, 100, 500, 1000)\n",
    "* Note\t= tuple( [ 20, 50, 100, 500, 1000 ] )\n",
    "* print( Note(0), Note(4) )\t# ผลลัพธ์คือ 20 1000\n"
   ]
  },
  {
   "cell_type": "code",
   "execution_count": null,
   "id": "728a6cd7",
   "metadata": {},
   "outputs": [],
   "source": [
    "# ตัวอย่างการสร้างตัวแปรประเภท Tuple\n",
    "Holiday = ('Sunday','Saturday')\n",
    "Location = ('Europe', 'Japan', 'USA')\n",
    "Money =  (20, 50, 100, 500, 1000)\n",
    "Note = tuple( [ 20, 50, 100, 500, 1000 ] ) # ฟังก์ชั่น tuple สร้างตัวแปรประเภท tuple จากตัวแปร List ได้\n",
    "print( Note[0], Note[4] ) # ผลลัพธ์คือ 20 1000\n"
   ]
  },
  {
   "cell_type": "code",
   "execution_count": null,
   "id": "fdb83f42",
   "metadata": {},
   "outputs": [],
   "source": [
    "# เปลี่ยนข้อมูล List เป็นข้อมูลแบบ Tuple\n",
    "ColorList = ['Red','Green','Blue']\n",
    "ColorTuple = tuple( ColorList )\n",
    "print(ColorList)\n",
    "print(ColorTuple)\n",
    "\n",
    "# เปลี่ยนข้อมูล Tuple เป็นข้อมูลแบบ List ด้วยฟังก์ชั่น list()\n",
    "print( list(ColorTuple) )"
   ]
  },
  {
   "cell_type": "markdown",
   "id": "842dc58f",
   "metadata": {},
   "source": [
    "* เนื่องจากสมาชิกของ Tuple ไม่สามารถเปลี่ยนแปลงได้ ดังนั้นฟังกชั่นที่เคยใช้จัดการกับสมาชิกอย่างที่ใช้กับตัวแปรประเภท List จะไม่สามารถใช้กับ Tuple ได้\n",
    "* Method สำคัญของตัวแปรประเภท Tuple\n",
    "    - .count( ข้อมูล )\t: นับจำนวนสมาชิกทั้งหมดที่มีค่าตรงกับข้อมูลที่ระบุ\n",
    "    - .index( ข้อมูล )\t: คืนค่า Index ของสมาชิกที่ใน Tuple ซึ่งมีค่าตรงกับข้อมูลที่ระบุ"
   ]
  },
  {
   "cell_type": "code",
   "execution_count": null,
   "id": "61db682b",
   "metadata": {},
   "outputs": [],
   "source": [
    "# ตัวอย่างการใช้ Method ของตัวแปรประเภท Tuple\n",
    "DataTuple = (1,2,1,2,3,1,2,3,4)\n",
    "\n",
    "print('DataTyple.count( 1 ) = ',DataTuple.count(1) )\n",
    "print('DataTyple.index( 1 ) = ',DataTuple.index(1) )\n",
    "print('DataTyple.index( 1,2 ) = ',DataTuple.index(1,2) )\n",
    "print('DataTyple.index( 1,3 ) = ',DataTuple.index(1,3) )"
   ]
  },
  {
   "cell_type": "markdown",
   "id": "5bb174c2",
   "metadata": {},
   "source": [
    "* ฟังก์ชั่นสำคัญของตัวแปรประเภท Set\n",
    "    - len()\t\t: นับจำนวนสมาชิกทั้งหมดใน Set\n",
    "    - max() \t\t: สมาชิกที่มีค่ามากที่สุด\n",
    "    - min()\t\t: สมาชิกที่มีค่าน้อยที่สุด"
   ]
  },
  {
   "cell_type": "code",
   "execution_count": null,
   "id": "133d6b29",
   "metadata": {},
   "outputs": [],
   "source": [
    "# ตัวอย่างการใช้ฟังก์ชั่นกับตัวแปรประเภท Tuple\n",
    "DataTuple = (1,2,1,2,3,1,2,3,4)\n",
    "\n",
    "print('len( DataTuple ) = ',len( DataTuple)  )\n",
    "print('max( DataTuple ) = ',max( DataTuple)  )\n",
    "print('min( DataTuple ) = ',min( DataTuple)  )"
   ]
  },
  {
   "cell_type": "markdown",
   "id": "807eb57a",
   "metadata": {},
   "source": [
    "## Set Data Type\n",
    "\n",
    "* ใช้เก็บข้อมูลหลากหลายประเภทแบบไม่ซ้ำกันภายใต้เครื่องหมาย { }\n",
    "* ถ้าข้อมูลซ้ำ จะนำมาเป็นสมาชิกแค่ครั้งเดียว\n",
    "* ไม่มีลำดับของข้อมูล\n",
    "\n",
    "**ตัวอย่างเช่น**\n",
    "\n",
    "* Fruit \t= { ‘apple’, ‘orange’, ‘banana’ }\n",
    "* Color\t= {‘Red’, ‘Green’, ‘Blue’}\n",
    "* print( ‘orange’ in Fruit )\t\t\t# ได้ค่า True เพราะ orange เป็นสมาชิกของ Fruit\n",
    "* print( Color[0], Color[1], Color[2])\t# เกิด Error เพราะตัวแปรประเภท Set ไม่มีลำดับ"
   ]
  },
  {
   "cell_type": "code",
   "execution_count": null,
   "id": "1d7dea12",
   "metadata": {},
   "outputs": [],
   "source": [
    "# ตัวอย่างการสร้างข้อมูลประเภท set\n",
    "Fruit = { 'apple', 'orange', 'banana' }\n",
    "Color = {'Red', 'Green', 'Blue'}\n",
    "\n",
    "# ตัวอย่างการใช้งานข้อมูล set\n",
    "print( 'orange' in Fruit ) # ได้ค่า True เพราะ orange เป็นสมาชิกของ Fruit\n"
   ]
  },
  {
   "cell_type": "code",
   "execution_count": null,
   "id": "1834db7b",
   "metadata": {},
   "outputs": [],
   "source": [
    "# ข้อมูล set ไม่สามารถเข้าถึงด้วย index\n",
    "print( Color[0], Color[1], Color[2]) # เกิด Error เพราะตัวแปรประเภท Set ไม่มีลำดับ"
   ]
  },
  {
   "cell_type": "markdown",
   "id": "fa1e26eb",
   "metadata": {},
   "source": [
    "* Method สำคัญของตัวแปรประเภท Set\n",
    "    - .add( ข้อมูล ) \t: เพิ่มสมาชิกใหม่ 1 รายการ\n",
    "    - .remove( ข้อมูล )\t: นำข้อมูลที่ระบุออกจาก Set\n",
    "    - .clear() \t\t: ลบสมาชิกทั้งหมดของ Set"
   ]
  },
  {
   "cell_type": "code",
   "execution_count": null,
   "id": "e4cecdae",
   "metadata": {},
   "outputs": [],
   "source": [
    "# ตัวอย่างการใช้ Method ของข้อมูลประเภท set\n",
    "Fruit = { 'apple', 'orange', 'banana' }\n",
    "print(Fruit)\n",
    "\n",
    "# เพิ่มสมาชิกใหม่ให้แก่ตัวแปร Set\n",
    "Fruit.add('mango') # เพิ่ม mango เข้าไปใน set\n",
    "print(Fruit)\n",
    "\n",
    "# ลบสมาชิกหนึ่งตัวออกจากตัวแปร Set\n",
    "Fruit.remove('apple') # ลบ apple ออกจาก set\n",
    "print(Fruit)\n",
    "\n",
    "# ล้างสมาชิกทั้งหมด\n",
    "Fruit.clear() # ได้ empty set\n",
    "print(Fruit)"
   ]
  },
  {
   "cell_type": "markdown",
   "id": "e1e953be",
   "metadata": {},
   "source": [
    "* ฟังก์ชั่นสำคัญของตัวแปรประเภท Set\n",
    "    - len()\t\t: นับจำนวนสมาชิกทั้งหมดใน Set\n",
    "    - max() \t\t: สมาชิกที่มีค่ามากที่สุด\n",
    "    - min()\t\t: สมาชิกที่มีค่าน้อยที่สุด"
   ]
  },
  {
   "cell_type": "code",
   "execution_count": null,
   "id": "2d69f4f0",
   "metadata": {},
   "outputs": [],
   "source": [
    "# ตัวอย่างการใช้ฟังก์ชั่นกับตัวแปรประเภท Set\n",
    "DataTuple = (1,2,1,2,3,1,2,3,4) # สร้างข้อมูลประเภท tuple\n",
    "DataSet = set( DataTuple ) # สามารถเปลี่ยนข้อมูลประเภท tuple มาเป็นข้อมูลแบบ set ได้\n",
    "print(DataSet)\n",
    "\n",
    "# ฟังก์ชั่น len เพื่อนับจำนวนสมาชิก\n",
    "print( 'len(DataSet) = ', len(DataSet))\n",
    "\n",
    "# ฟังก์ชั่น max เพื่อหาค่าสูงสุดของ set\n",
    "print( 'max(DataSet) = ', max(DataSet))\n",
    "\n",
    "# ฟังก์ชั่น min เพื่อหาค่าต่ำสุดของ set\n",
    "print( 'min(DataSet) = ', min(DataSet))\n",
    "\n",
    "\n",
    "\n"
   ]
  },
  {
   "cell_type": "markdown",
   "id": "3a9b34ec",
   "metadata": {},
   "source": [
    "## Dictionary Data Type\n",
    "\n",
    "* เป็นการจัดเก็บข้อมูลรูปแบบหนึ่งที่แต่ละสมาชิกจะมีองค์ประกอบสองอย่างคือ Key และ Value\n",
    "* Key : ใช้อ้างถึงสมาชิกแต่ละตัวของ Dictionary   สมาชิกแต่ละตัวห้ามมี Key ซ้ำกัน\n",
    "* Value : เป็นค่าของสมาชิกใน Dictionary ซึ่งถูกอ้างถึงผ่าน Key\n",
    "\n",
    "<p>\n",
    "<center><b>Value</b> = ตัวแปรชนิด Dictionary[ <b>Key</b> ]</center>\n",
    "<p>\n",
    "    \n",
    "**ตัวอย่าง**\n",
    "* Teddy = { ‘Color’: ‘ขาว’ , ‘Size’: ‘s’, ‘Price’: 100 }\n",
    "* print( Teddy[‘Color’],Teddy[‘Size’],Teddy[‘Price’] ) \t# ผลลัพธ์คือ ขาว s 100"
   ]
  },
  {
   "cell_type": "code",
   "execution_count": null,
   "id": "ff7e3185",
   "metadata": {},
   "outputs": [],
   "source": [
    "# ตัวอย่างการประยุกต์ใช้ข้อมูลประเภท Dictionary\n",
    "Teddy = { 'Color': 'ขาว' , 'Size': 's', 'Price': 100 }\n",
    "\n",
    "# เรียกดูค่าที่บันทึกไว้ผ่านค่า Key\n",
    "print( Teddy['Color'],Teddy['Size'],Teddy['Price'] )\n",
    "\n",
    "# สามารถใช้ Method .get() เพื่อผ่านค่า Value จาก Key ที่กำหนดให้\n",
    "print( Teddy.get('Color') )\n"
   ]
  },
  {
   "cell_type": "markdown",
   "id": "f3caf491",
   "metadata": {},
   "source": [
    "* Method สำคัญของตัวแปรประเภท Dictionary\n",
    "    - .keys()\t\t: อ่าน Key ทั้งหมดของสมาชิกในตัวแปร Dictionary \n",
    "    - .values()\t\t: อ่าน Value ทั้งหมดของสมาชิกในตัวแปร Dictionary\n",
    "    - .items()\t\t: รายการทั้งหมดในตัวแปร Dictionary คืนค่าออกมาในรูป tuple( key, value )\n",
    "    - .clear()\t\t: ลบสมาชิกทั้งหมดออกจากตัวแปร Dictionary\n"
   ]
  },
  {
   "cell_type": "code",
   "execution_count": null,
   "id": "724c5938",
   "metadata": {},
   "outputs": [],
   "source": [
    "# ตัวอย่างการประยุกต์ใช้ Method ของข้อมูลประเภท Dictionary\n",
    "Teddy = { 'Color': 'ขาว' , 'Size': 's', 'Price': 100 } # ข้อูมูลเริ่มต้น\n",
    "\n",
    "print('Teddy.keys() = ', Teddy.keys() )\n",
    "print('Teddy.values() = ', Teddy.values() )\n",
    "print('Teddy.items() = ', Teddy.items() )\n",
    "print('Teddy.clear() = ', Teddy.clear() )"
   ]
  },
  {
   "cell_type": "markdown",
   "id": "a8bbb43d",
   "metadata": {},
   "source": [
    "* ฟังก์ชั่นที่สำคัญของตัวแปรประเภท Dictionary\n",
    "    - len()\t\t: นับจำนวนสมาชิกทั้งหมดใน Dictionary\n",
    "    - max() \t\t: สมาชิกที่มีค่ามากที่สุด\n",
    "    - min()\t\t: สมาชิกที่มีค่าน้อยที่สุด"
   ]
  },
  {
   "cell_type": "code",
   "execution_count": null,
   "id": "a4fa7d91",
   "metadata": {},
   "outputs": [],
   "source": [
    "# ตัวอย่างการประยุกต์ใช้ function กับข้อมูลประเภท Dictionary\n",
    "Teddy = { 'Color': 'ขาว' , 'Size': 's', 'Price': 100 } # ข้อูมูลเริ่มต้น\n",
    "\n",
    "print( len(Teddy), max(Teddy), min(Teddy) )"
   ]
  }
 ],
 "metadata": {
  "kernelspec": {
   "display_name": "Python 3",
   "language": "python",
   "name": "python3"
  },
  "language_info": {
   "codemirror_mode": {
    "name": "ipython",
    "version": 3
   },
   "file_extension": ".py",
   "mimetype": "text/x-python",
   "name": "python",
   "nbconvert_exporter": "python",
   "pygments_lexer": "ipython3",
   "version": "3.8.8"
  }
 },
 "nbformat": 4,
 "nbformat_minor": 5
}
