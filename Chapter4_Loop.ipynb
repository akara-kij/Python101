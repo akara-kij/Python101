{
 "cells": [
  {
   "cell_type": "markdown",
   "id": "d5919ca3",
   "metadata": {},
   "source": [
    "![alt text for screen readers](UTCClogo.png \"Univerity of the Thai Chamber of Commerce\")\n",
    "# <center>Chapter 4 : Python Control Flow</center>\n",
    "\n",
    "## ฟังก์ชั่น range()\n",
    "\n",
    "* ใช้กำหนดขอบเขตของข้อมูล\n",
    "    - range( stop )\t\t: ช่วงข้อมูลตั้งแต่ 0 ถึง stop – 1\n",
    "    - range(start,stop,step)\t: ช่วงข้อมูลตั้งแต่ 0 โดยค่าเพิ่มขึ้นครั้งละ step หยุดข้อมูลเมื่อถึง stop – 1 \n",
    "        * โดยที่ \tstart คือ ค่าเริ่มต้น\n",
    "        * stop คือ ขอบเขตบนของช่วงข้อมูล แต่ไม่รวมค่าที่ stop\n",
    "        * step คือ ระยะห่างช่วงข้อมูลแต่ละช่วง\n",
    "        \n",
    "**ตัวอย่าง**\n"
   ]
  },
  {
   "cell_type": "code",
   "execution_count": null,
   "id": "3ae678ed",
   "metadata": {},
   "outputs": [],
   "source": [
    "# ตัวอย่างคำสั่งฟังก์ชั่น range()\n",
    "range_5 = range(5)\n",
    "\n",
    "# ทดลองแสดงผลผ่านคำสั่ง print\n",
    "print( range_5) # แสดงผลออกเป็น range(5)\n",
    "\n",
    "# แปลงให้เป็นข้อมูลประเภท List ก่อนแล้วจึงแสดงผล\n",
    "print( list(range_5))\n"
   ]
  },
  {
   "cell_type": "code",
   "execution_count": null,
   "id": "f18a39b6",
   "metadata": {},
   "outputs": [],
   "source": [
    "# สร้างช่วงข้อมูลในกรณีต่าง ๆ พร้อมแสดงผล\n",
    "range_0to5 = range(0,5) # ช่วงข้อมูลคือ 0, 1, 2, 3, 4\n",
    "print(list(range_0to5))\n",
    "\n",
    "range_1to10 = range(1,10) # ช่วงข้อมูลคือ 1, 2, 3, …, 7, 8, 9\n",
    "print(list(range_1to10))\n",
    "\n",
    "range_1to10Step2 = range(1,10,2) #  ช่วงข้อมูลคือ 1, 3, 5, 7, 9\n",
    "print(list(range_1to10Step2))\n",
    "\n",
    "range_10to1StepNeg2 = range(10,1,-2) # ช่วงข้อมูลคือ  10, 8, 6, 4, 2\n",
    "print(list(range_10to1StepNeg2))\n",
    "\n",
    "range_10toNeg10Step1 = range(10,-10,1) # ไม่มีข้อมูลเพราะ Stop มีค่าน้อยกว่า Start\n",
    "print(list(range_10toNeg10Step1))\n",
    "\n",
    "range_10toNeg10StepNeg1 = range(10,-10,-1) # ช่วงข้อมูลคือ ช่วงข้อมูลคือ 10, 9, 8, 7, …. , -7, -8, -9\n",
    "print(list(range_10toNeg10StepNeg1))"
   ]
  },
  {
   "cell_type": "markdown",
   "id": "3053d2e9",
   "metadata": {},
   "source": [
    "## การใช้ลูปแบบ for-in\n",
    "\n",
    "* คำสั่งให้ทำซ้ำตามจำนวนรอบที่กำหนด\n",
    "\n",
    "    - for ตัวแปร in ช่วงข้อมูล :\n",
    "        - program code 1\n",
    "        - program code 2\n",
    "        \n",
    "\n",
    "* ช่วงข้อมูล มักใช้ค่าที่ได้จากฟังก์ชั่น range()\n",
    "* ตัวแปร คือ ตัวแปรแต่ละตัวในช่วงข้อมูลที่กำหนดให้แก่ลูป for-in\n",
    "\n",
    "**ตัวอย่าง**\n"
   ]
  },
  {
   "cell_type": "code",
   "execution_count": null,
   "id": "7f91c1f3",
   "metadata": {},
   "outputs": [],
   "source": [
    "# ทดสอบการทำงานของลูปแบบ for-in\n",
    "for i in range(0,5) :\n",
    "    print(\"Value of i = \",i)\n",
    "    print(\"Hello world \" + str(i) ) # ฟ้งก์ชั่น str() มีเพื่อเปลี่ยวตัวแปร i ให้เป็นข้อมูลประเภท String\n",
    "        \n",
    "print(\"จบการทำงานของลูป for-in\")"
   ]
  },
  {
   "cell_type": "markdown",
   "id": "66c2088f",
   "metadata": {},
   "source": [
    "## การใช้ลูปแบบ while\n",
    "\n",
    "* การทำซ้ำแบบกำหนดเงื่อนไข\n",
    "\n",
    "    - while เงื่อนไข :\n",
    "        - program code 1\n",
    "        - program code 2\n",
    "\n",
    "\n",
    "\n",
    "* ลูปแบบ while จะตรวจสอบเงื่อนไขก่อนทำซ้ำ\n",
    "* วนลูปเมื่อเงื่อนไขเป็น True\n",
    "* หยุดทำซ้ำเมื่อเงื่อนไขเป็น False"
   ]
  },
  {
   "cell_type": "code",
   "execution_count": null,
   "id": "b9e1397a",
   "metadata": {},
   "outputs": [],
   "source": [
    "# ทดสอบการทำงานของลูปแบบ while\n",
    "i = 0 # ทดลองเปลี่ยนค่า i เริ่มต้นเป็น 5 แล้วดูความแตกต่าง\n",
    "while i < 5 :\n",
    "    print(\"Value of i = \",i)\n",
    "    print(\"Hello world \" + str(i) ) # ฟ้งก์ชั่น str() มีเพื่อเปลี่ยวตัวแปร i ให้เป็นข้อมูลประเภท String\n",
    "    i = i + 1    \n",
    "        \n",
    "print(\"จบการทำงานของลูป while\")"
   ]
  },
  {
   "cell_type": "markdown",
   "id": "a8abe575",
   "metadata": {},
   "source": [
    "## คำสั่ง continue\n",
    "* สั่งให้เริ่มลูปถัดไปทันที\n",
    "* หยุดทำคำสั่งในลูปปัจจุบันทุกคำสั่งที่อยู่หลังคำสั่ง ```continue```\n",
    "\n",
    "**ตัวอย่างเช่น**\n"
   ]
  },
  {
   "cell_type": "code",
   "execution_count": null,
   "id": "8a50b2ea",
   "metadata": {},
   "outputs": [],
   "source": [
    "for  x in range(0,5) :\n",
    "    if x== 3 : \n",
    "        continue # เมื่อ x มีค่าเท่ากับ 3 แล้วจะหยุดลูปปัจจุบันจากนั้นลูปถัดไปจะเริ่มทำงาน\n",
    "    print(x)\n",
    "    \n",
    "print('จบการทำงาน')\n"
   ]
  },
  {
   "cell_type": "markdown",
   "id": "632e9b67",
   "metadata": {},
   "source": [
    "## คำสั่ง break\n",
    "* สั่งให้หยุดลูปทั้งหมดทันที\n",
    "* หยุดกระทำทุกคำสั่งในลูปปัจจุบัน\n",
    "\n",
    "**ตัวอย่างเช่น**"
   ]
  },
  {
   "cell_type": "code",
   "execution_count": null,
   "id": "29bbe30e",
   "metadata": {},
   "outputs": [],
   "source": [
    "for  x in range(0,5) :\n",
    "    if x== 3 : \n",
    "        break # เมื่อ x มีค่าเท่ากับ 3 แล้วจะยุติลูปทันที\n",
    "    print(x)\n",
    "    \n",
    "print('จบการทำงาน')"
   ]
  },
  {
   "cell_type": "markdown",
   "id": "48e9e04e",
   "metadata": {},
   "source": [
    "## การใช้ else ในลูป\n",
    "* Python สามารถเพิ่ม else เป็น feature ในลูป for-in และ ลูป while\n",
    "* กรณีลูปแบบ for-int\n",
    "    - for ตัวแปร in ช่วงข้อมูล :\n",
    "        - program code 1\n",
    "    - else :\n",
    "        - program code 2\n",
    "        \n",
    "* กรณีลูปแบบ while                        \n",
    "    - while เงื่อนไข :\n",
    "        - program code 1\n",
    "    - else :\n",
    "        - program code 2\n",
    "\n",
    "* เมื่อโปรแกรมทำงานในลูป for/while สำเร็จแล้วจึงทำงานต่อในบล็อค else\n",
    "* หากลูปถูกหยุดด้วยคำสั่ง break แล้วบล็อก else จะไม่ทำงาน\n"
   ]
  },
  {
   "cell_type": "code",
   "execution_count": null,
   "id": "a93a850d",
   "metadata": {},
   "outputs": [],
   "source": [
    "# กรณีลูป for-in พร้อมด้วยบล็อค else\n",
    "for x in range(6): # ทดลองเปลี่่ยนเงื่อนไขเป็น range(3)\n",
    "  print(x)\n",
    "  if x == 5 : \n",
    "    break # เมื่อคำสั่ง break ทำงานจะยุติการทำงานของลูปทันที\n",
    "    \n",
    "else:\n",
    "  print(\"Finally finished!\") # หากคำสั่ง break ไม่ทำงานแล้วบล็อค else จะทำงานต่อจากลูป while\n"
   ]
  },
  {
   "cell_type": "code",
   "execution_count": null,
   "id": "55101437",
   "metadata": {},
   "outputs": [],
   "source": [
    "# กรณีลูป while พร้อมด้วยบล็อค else\n",
    "x = 0\n",
    "while x < 6 : # ทดลองเปลี่่ยนเงื่อนไขเป็น x<3\n",
    "  print(x)\n",
    "  if x == 4 : \n",
    "    break # เมื่อคำสั่ง break ทำงานจะยุติการทำงานของลูปทันที\n",
    "  x = x + 1\n",
    "    \n",
    "else:\n",
    "  print(\"Finally finished!\") # หากคำสั่ง break ไม่ทำงานแล้วบล็อค else จะทำงานต่อจากลูป while\n"
   ]
  }
 ],
 "metadata": {
  "kernelspec": {
   "display_name": "Python 3",
   "language": "python",
   "name": "python3"
  },
  "language_info": {
   "codemirror_mode": {
    "name": "ipython",
    "version": 3
   },
   "file_extension": ".py",
   "mimetype": "text/x-python",
   "name": "python",
   "nbconvert_exporter": "python",
   "pygments_lexer": "ipython3",
   "version": "3.8.8"
  }
 },
 "nbformat": 4,
 "nbformat_minor": 5
}
