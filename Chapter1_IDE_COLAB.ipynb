{
  "nbformat": 4,
  "nbformat_minor": 0,
  "metadata": {
    "colab": {
      "name": "Chapter1_IDE.ipynb",
      "provenance": [],
      "collapsed_sections": []
    },
    "kernelspec": {
      "name": "python3",
      "display_name": "Python 3"
    },
    "language_info": {
      "name": "python"
    }
  },
  "cells": [
    {
      "cell_type": "markdown",
      "metadata": {
        "id": "F6XVGb5Z57Yd"
      },
      "source": [
        "\n",
        "# Python Google Collaboratory\n",
        "\n",
        "Google Colaboratory หรือ Colab คือ IDE ภาษา Python รูปแบบ Online สามารถเข้าใช้บริการผ่าน Google Account โดยไม่จำเป็นต้องติดตั้งโปรแกรมใดๆ บนเครื่อง"
      ]
    },
    {
      "cell_type": "markdown",
      "metadata": {
        "id": "zQcxyGoi6DPY"
      },
      "source": [
        "## สั่งให้ Cell ทำงาน\n",
        "\n",
        "ไม่ว่า cell นั้นจะเป็น Markdown หรือ Code สามารถสั่งให้ทำงานด้วยคำสั่ง Shift+ Enter"
      ]
    },
    {
      "cell_type": "markdown",
      "metadata": {
        "id": "TM51-NHn7Hs3"
      },
      "source": [
        ""
      ]
    },
    {
      "cell_type": "code",
      "metadata": {
        "id": "CN4QYzVT6JnH"
      },
      "source": [
        ""
      ],
      "execution_count": null,
      "outputs": []
    },
    {
      "cell_type": "markdown",
      "metadata": {
        "id": "LUMc8ckZ7ODR"
      },
      "source": [
        "## เพิ่ม Cell ด้านล่าง\n",
        "\n",
        "สามารถเพิ่ม Cell เพื่่อใช้สร้าง Code โดยการกด Ctrl ตามด้วย M และ B"
      ]
    },
    {
      "cell_type": "code",
      "metadata": {
        "id": "gcVuizxw8CqB"
      },
      "source": [
        ""
      ],
      "execution_count": null,
      "outputs": []
    },
    {
      "cell_type": "markdown",
      "metadata": {
        "id": "iIH7IpeF6FeO"
      },
      "source": [
        "## เปลี่ยน Cell สำหรับ Code ให้กลายเป็น Cell ข้อความ\n",
        "\n",
        "คลิก Cell สำหรับ Code ที่ต้องการแล้วกด Ctrl ตามด้วย M และ M"
      ]
    },
    {
      "cell_type": "markdown",
      "metadata": {
        "id": "URnFpOpf8SEI"
      },
      "source": [
        "cell สำหรับแสดงผล"
      ]
    },
    {
      "cell_type": "markdown",
      "metadata": {
        "id": "_Lor9xf08S26"
      },
      "source": [
        "## ลบ Cell ที่ไม่ต้องการ\n",
        "\n",
        "เลือก Cell ที่ต้องการจากนั้นกด Ctrl ตามด้วย M และ D\n"
      ]
    },
    {
      "cell_type": "code",
      "metadata": {
        "id": "hvs2LbES8ypz"
      },
      "source": [
        ""
      ],
      "execution_count": null,
      "outputs": []
    },
    {
      "cell_type": "markdown",
      "metadata": {
        "id": "CAxeZMNd8zG6"
      },
      "source": [
        "## เริ่มเขียนโปรแกรมเป็นครั้งแรก Hello world\n",
        "\n",
        "คำสั่ง print สามารถใช้แสดงผลข้อความที่ต้องการ\n",
        "\n",
        "```print( Input String)``` ( หมายเหตุ ` สามาถพิมพ์ด้วยการกด Alt + 96 ส่วนเครื่องหมาย ~ ใช้ Alt + 126)\n",
        "\n",
        "**ตัวอย่างเช่น** :  print(\"Hello World\")"
      ]
    },
    {
      "cell_type": "code",
      "metadata": {
        "id": "TOlxHjHU89EX"
      },
      "source": [
        "print(\"Hello World\")\n",
        "print(\"Hello World\")"
      ],
      "execution_count": null,
      "outputs": []
    },
    {
      "cell_type": "markdown",
      "metadata": {
        "id": "ykA8FvAh9FvP"
      },
      "source": [
        "แต่ถ้าหากต้องการ แสดงตัวอักษร ' หรือ \" สามารถกระทำได้ดังตัวอย่างต่อไปนี้\n",
        "* กรณี Single Quote ' : นำเครื่องหมาย Single Quote ให้อยู่ภายใต้เครื่องหมาย Double Quote สองอัน\n",
        "* กรณี Double Quote \" : นำเครื่องหมาย Double Quote ให้อยู่ภายใต้เครื่องหมาย Single Quote สองอัน\n"
      ]
    },
    {
      "cell_type": "code",
      "metadata": {
        "colab": {
          "base_uri": "https://localhost:8080/"
        },
        "id": "YN4i6ZF49JLa",
        "outputId": "6079faa9-b38c-44cb-ec4a-c9f150fb74d9"
      },
      "source": [
        "print(\" ต้องการแสดงเครื่่องหมาย Single Quote ' \")\n",
        "print(\"แสดงเครื่องหมาย ' \")\n",
        "print(' ในกรณีที่ต้องการแสดงเครื่องหมาย Double Quote \" ')\n",
        "\n",
        "print(' เครื่องหมาย double quote \" ')"
      ],
      "execution_count": 5,
      "outputs": [
        {
          "output_type": "stream",
          "text": [
            " ต้องการแสดงเครื่่องหมาย Single Quote ' \n",
            "แสดงเครื่องหมาย ' \n",
            " ในกรณีที่ต้องการแสดงเครื่องหมาย Double Quote \" \n",
            " เครื่องหมาย double quote \" \n"
          ],
          "name": "stdout"
        }
      ]
    },
    {
      "cell_type": "markdown",
      "metadata": {
        "id": "BDQ09KO59PJI"
      },
      "source": [
        "## การใช้ Comment Line\n",
        "\n",
        "* Comment line เป็นการบอกให้ Python ทราบว่าบรรทัดที่ระบุนี้มิใช่ Code หากแต่เป็นข้อความที่โปรแกรมเมอร์ใส่ไว้เพื่อให้อธิบายรายละเอียดของ Code\n",
        "* ใช้เครื่องหมาย # เพื่อเปลี่ยนข้อความเป็น Comment Line"
      ]
    },
    {
      "cell_type": "code",
      "metadata": {
        "id": "Rh0a4p_h9SgN"
      },
      "source": [
        "# ข้อความต่อไปนี้คือ Comment Line ดังนันภาษา Python จะข้าม Comment Line อันนี้ไป\n",
        "# ข้อความอธิบายโปรแกรม\n",
        "print(\"Hello World\")"
      ],
      "execution_count": null,
      "outputs": []
    },
    {
      "cell_type": "markdown",
      "metadata": {
        "id": "-USWu4Xd9TIT"
      },
      "source": [
        "## การใช้ Comment Block\n",
        "\n",
        "สามารถใส่คำอธิบายที่ยาวหลายบรรทัดได้ โดยนำข้อความเหล่านั้นให้อยู่ภายใต้เครื่องหายต่อไปนี้\n",
        "* Single Quote จำนวน 3 อัน ตัวอย่างเช่น ''' ข้อความ '''\n",
        "* Double Quote จำนวน 3 อัน ตัวอย่างเช่น \"\"\"  ข้อความ \"\"\""
      ]
    },
    {
      "cell_type": "code",
      "metadata": {
        "id": "GtLYdY7p9WWX"
      },
      "source": [
        "'''\n",
        "ตัวอย่าง Comment Block ภายใต้เครื่องหมาย Single Quote\n",
        "1. บรรทัดที่ 1\n",
        "2. บรรทัดที่ 2\n",
        "3. บรรทัดที่ 3\n",
        "'''\n",
        "print(\"ตัวอย่างการสร้าง Comment Block ด้วย Single Quote\")"
      ],
      "execution_count": null,
      "outputs": []
    },
    {
      "cell_type": "code",
      "metadata": {
        "id": "qtmNBQgY9Xir"
      },
      "source": [
        "\"\"\"\n",
        "ตัวอย่าง Comment Block ภายใต้เครื่องหมาย Double Quote\n",
        "1. บรรทัดที่ 1\n",
        "2. บรรทัดที่ 2\n",
        "3. บรรทัดที่ 3\n",
        "\"\"\"\n",
        "print(\"ตัวอย่างการสร้าง Comment Block ด้วย Single Quote\")"
      ],
      "execution_count": null,
      "outputs": []
    },
    {
      "cell_type": "markdown",
      "metadata": {
        "id": "OhyTXPa89Zya"
      },
      "source": [
        "## การเขียนคำสั่งยาวมากกว่า 1 บรรทัด\n",
        "\n",
        "หาก Code ที่ต้องการเขียนมีความยาวมากกว่าหนึ่งบรรทัด สามารถเขียนคำสั่งนั้นต่อในบรรทัดใหม่ได้โดยเชื่อมแต่ละบรรทัดด้วยเครื่องหมาย ```\\```"
      ]
    },
    {
      "cell_type": "code",
      "metadata": {
        "id": "JWxJ27iSJpE9",
        "collapsed": true
      },
      "source": [
        "# ทดสอบคำสั่งที่ยาวมากกว่าหนึ่งบรรทัด\n",
        "print(                     \\\n",
        "     \"Hello Wolrld \"  \\\n",
        "       ) "
      ],
      "execution_count": null,
      "outputs": []
    }
  ]
}