{
 "cells": [
  {
   "cell_type": "markdown",
   "metadata": {},
   "source": [
    "![alt text for screen readers](UTCCLogo.png \"University of the Thai Chamber of Commerce\")\n",
    " # <center> Chapter 1 : Python and IDE Tools</center>\n",
    "# Python Jupyter Notebook\n",
    "\n",
    "Jupyter Notebook เป็นเครื่องมือในการเขียนโปรแกรม Python แบบ Web-Client โดยมีเครื่องคอมพิวเตอร์ของตนเองเป็นเครื่อง Server"
   ]
  },
  {
   "cell_type": "markdown",
   "metadata": {},
   "source": [
    "## สั่งให้ Cell ทำงาน\n",
    "\n",
    "ไม่ว่า cell นั้นจะเป็น Markdown หรือ Code สามารถสั่งให้ทำงานด้วยคำสั่ง Ctrl + Enter"
   ]
  },
  {
   "cell_type": "markdown",
   "metadata": {},
   "source": []
  },
  {
   "cell_type": "markdown",
   "metadata": {},
   "source": [
    "## เพิ่ม Cell ด้านล่าง\n",
    "\n",
    "สามารถเพิ่ม Cell ที่อยู่ด้านล่างโดยการกด B"
   ]
  },
  {
   "cell_type": "markdown",
   "metadata": {},
   "source": []
  },
  {
   "cell_type": "markdown",
   "metadata": {},
   "source": [
    "## ลบ Cell ที่กำลังเลือก\n",
    "\n",
    "สามารถลบ Cell ที่เลือกอยู่โดยการกด D, D  ซึ่งก็คือการกดปุ่ม D จำนวน 2 ครั้ง"
   ]
  },
  {
   "cell_type": "markdown",
   "metadata": {},
   "source": []
  },
  {
   "cell_type": "markdown",
   "metadata": {},
   "source": [
    "## เปลี่ยน Cell เพื่อ Coding\n",
    "\n",
    "จาก Drop down เมนูด้านบน ให้เปลี่ยนจาก Markdown มาเป็น Code"
   ]
  },
  {
   "cell_type": "markdown",
   "metadata": {},
   "source": []
  },
  {
   "cell_type": "markdown",
   "metadata": {},
   "source": [
    "## เริ่มเขียนโปรแกรมเป็นครั้งแรก Hello world\n",
    "\n",
    "คำสั่ง print สามารถใช้แสดงผลข้อความที่ต้องการ\n",
    "\n",
    "```print( Input String)``` ( หมายเหตุ ` สามาถพิมพ์ด้วยการกด Alt + 96 ส่วนเครื่องหมาย ~ ใช้ Alt + 126)\n",
    "\n",
    "**ตัวอย่างเช่น** :  print(\"Hello World\")"
   ]
  },
  {
   "cell_type": "code",
   "execution_count": null,
   "metadata": {},
   "outputs": [],
   "source": [
    "print(\"Hello World\")"
   ]
  },
  {
   "cell_type": "markdown",
   "metadata": {},
   "source": [
    "แต่ถ้าหากต้องการ แสดงตัวอักษร ' หรือ \" สามารถกระทำได้ดังตัวอย่างต่อไปนี้\n",
    "* กรณี Single Quote ' : นำเครื่องหมาย Single Quote ให้อยู่ภายใต้เครื่องหมาย Double Quote สองอัน\n",
    "* กรณี Double Quote \" : นำเครื่องหมาย Double Quote ให้อยู่ภายใต้เครื่องหมาย Single Quote สองอัน\n"
   ]
  },
  {
   "cell_type": "code",
   "execution_count": null,
   "metadata": {},
   "outputs": [],
   "source": [
    "print(\" ต้องการแสดงเครื่่องหมาย Single Quote ' \")\n",
    "print(' ในกรณีที่ต้องการแสดงเครื่องหมาย Double Quote \" ')"
   ]
  },
  {
   "cell_type": "markdown",
   "metadata": {},
   "source": [
    "## การใช้ Comment Line\n",
    "\n",
    "* Comment line เป็นการบอกให้ Python ทราบว่าบรรทัดที่ระบุนี้มิใช่ Code หากแต่เป็นข้อความที่โปรแกรมเมอร์ใส่ไว้เพื่อให้อธิบายรายละเอียดของ Code\n",
    "* ใช้เครื่องหมาย # เพื่อเปลี่ยนข้อความเป็น Comment Line"
   ]
  },
  {
   "cell_type": "code",
   "execution_count": null,
   "metadata": {},
   "outputs": [],
   "source": [
    "# ข้อความต่อไปนี้คือ Comment Line ดังนันภาษา Python จะข้าม Comment Line อันนี้ไป\n",
    "print(\"Hello World\")"
   ]
  },
  {
   "cell_type": "markdown",
   "metadata": {},
   "source": [
    "## การใช้ Comment Block\n",
    "\n",
    "สามารถใส่คำอธิบายที่ยาวหลายบรรทัดได้ โดยนำข้อความเหล่านั้นให้อยู่ภายใต้เครื่องหายต่อไปนี้\n",
    "* Single Quote จำนวน 3 อัน ตัวอย่างเช่น ''' ข้อความ '''\n",
    "* Double Quote จำนวน 3 อัน ตัวอย่างเช่น \"\"\"  ข้อความ \"\"\"\n",
    "\n",
    "\n"
   ]
  },
  {
   "cell_type": "code",
   "execution_count": null,
   "metadata": {},
   "outputs": [],
   "source": [
    "\"\"\"\n",
    "ตัวอย่าง Comment Block ภายใต้เครื่องหมาย Double Quote\n",
    "1. บรรทัดที่ 1\n",
    "2. บรรทัดที่ 2\n",
    "3. บรรทัดที่ 3\n",
    "\"\"\"\n",
    "print(\"ตัวอย่างการสร้าง Comment Block ด้วย Double Quote\")"
   ]
  },
  {
   "cell_type": "code",
   "execution_count": null,
   "metadata": {},
   "outputs": [],
   "source": [
    "'''\n",
    "ตัวอย่าง Comment Block ภายใต้เครื่องหมาย Single Quote\n",
    "1. บรรทัดที่ 1\n",
    "2. บรรทัดที่ 2\n",
    "3. บรรทัดที่ 3\n",
    "'''\n",
    "print(\"ตัวอย่างการสร้าง Comment Block ด้วย Single Quote\")"
   ]
  },
  {
   "cell_type": "markdown",
   "metadata": {},
   "source": [
    "## การเขียนคำสั่งยาวมากกว่า 1 บรรทัด\n",
    "\n",
    "หาก Code ที่ต้องการเขียนมีความยาวมากกว่าหนึ่งบรรทัด สามารถเขียนคำสั่งนั้นต่อในบรรทัดใหม่ได้โดยเชื่อมแต่ละบรรทัดด้วยเครื่องหมาย ```\\```"
   ]
  },
  {
   "cell_type": "code",
   "execution_count": null,
   "metadata": {},
   "outputs": [],
   "source": [
    "# ทดสอบคำสั่งที่ยาวมากกว่าหนึ่งบรรทัด\n",
    "print(                     \\\n",
    "     \"Hello Wolrld \"  \\\n",
    "       ) "
   ]
  }
 ],
 "metadata": {
  "kernelspec": {
   "display_name": "Python 3",
   "language": "python",
   "name": "python3"
  },
  "language_info": {
   "codemirror_mode": {
    "name": "ipython",
    "version": 3
   },
   "file_extension": ".py",
   "mimetype": "text/x-python",
   "name": "python",
   "nbconvert_exporter": "python",
   "pygments_lexer": "ipython3",
   "version": "3.8.8"
  }
 },
 "nbformat": 4,
 "nbformat_minor": 4
}
